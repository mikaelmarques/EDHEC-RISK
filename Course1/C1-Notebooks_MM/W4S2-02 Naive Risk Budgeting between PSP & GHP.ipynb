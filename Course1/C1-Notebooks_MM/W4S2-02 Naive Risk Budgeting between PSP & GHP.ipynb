{
 "cells": [
  {
   "cell_type": "code",
   "execution_count": 1,
   "metadata": {},
   "outputs": [],
   "source": [
    "import numpy as np\n",
    "import pandas as pd\n",
    "import edhec_risk_kit as erk\n",
    "%load_ext autoreload\n",
    "%autoreload 2"
   ]
  },
  {
   "cell_type": "code",
   "execution_count": 2,
   "metadata": {},
   "outputs": [],
   "source": [
    "def bt_mix(r1, r2, allocator, **kwargs): # Allocator is a variable that points to a function; Key-Words Arguments\n",
    "    \"\"\"\n",
    "    Runs as back test (simulation) of allocating between a two sets of returns\n",
    "    r1 and r2 are T x N DataFrames or returns where T is the time step index and N is the number of scenarios.\n",
    "    allocator is a function that takes two sets of returns and allocator specific parameters, and produces\n",
    "    an allocation to the first portfolio (the rest of the money is invested in the GHP) as a T x 1 DataFrame\n",
    "    Returns a T x N DataFrame of the resulting N portfolio scenarios.\n",
    "    \"\"\"\n",
    "    if not r1.shape == r2.shape:\n",
    "        raise ValueError('r1 and r2 need to be the same shape')\n",
    "    weights = allocator(r1, r2, **kwargs)\n",
    "    if not weights.shape == r1.shape:\n",
    "        raise ValueError('Allocator returned weights that dont martch r1')\n",
    "    r_mix = weights*r1 + (1-weights)*r2\n",
    "    return r_mix"
   ]
  },
  {
   "cell_type": "code",
   "execution_count": 3,
   "metadata": {},
   "outputs": [],
   "source": [
    "# Let's write a fixed mix allocator:\n",
    "def fixedmix_allocator(r1, r2, w1, **kwargs):\n",
    "    '''\n",
    "    Produces a time series over T steps of allocations between the PSP and GHP across N scenarios\n",
    "    PSP and GHP are T x N DataFrames that represent the returns of the PSP and GHP such that:\n",
    "        each column is a scenario\n",
    "        each row is the price of a timestep\n",
    "    Returns an T x N DataFrame of PSP weights\n",
    "    '''\n",
    "    return pd.DataFrame(data=w1, index=r1.index, columns=r1.columns)"
   ]
  },
  {
   "cell_type": "code",
   "execution_count": 4,
   "metadata": {},
   "outputs": [
    {
     "data": {
      "text/html": [
       "<div>\n",
       "<style scoped>\n",
       "    .dataframe tbody tr th:only-of-type {\n",
       "        vertical-align: middle;\n",
       "    }\n",
       "\n",
       "    .dataframe tbody tr th {\n",
       "        vertical-align: top;\n",
       "    }\n",
       "\n",
       "    .dataframe thead th {\n",
       "        text-align: right;\n",
       "    }\n",
       "</style>\n",
       "<table border=\"1\" class=\"dataframe\">\n",
       "  <thead>\n",
       "    <tr style=\"text-align: right;\">\n",
       "      <th></th>\n",
       "      <th>Annualized Return</th>\n",
       "      <th>Annualized Volatility</th>\n",
       "      <th>Skewness</th>\n",
       "      <th>Kurtosis</th>\n",
       "      <th>Cornish-Fisher VaR (5%)</th>\n",
       "      <th>Historic CVaR (5%)</th>\n",
       "      <th>Sharpe Ratio</th>\n",
       "      <th>Max Drawdown</th>\n",
       "    </tr>\n",
       "  </thead>\n",
       "  <tbody>\n",
       "    <tr>\n",
       "      <th>0</th>\n",
       "      <td>0.035801</td>\n",
       "      <td>0.003431</td>\n",
       "      <td>0.049813</td>\n",
       "      <td>3.291425</td>\n",
       "      <td>-0.001333</td>\n",
       "      <td>-0.000808</td>\n",
       "      <td>1.645445</td>\n",
       "      <td>0.0</td>\n",
       "    </tr>\n",
       "  </tbody>\n",
       "</table>\n",
       "</div>"
      ],
      "text/plain": [
       "   Annualized Return  Annualized Volatility  Skewness  Kurtosis  \\\n",
       "0           0.035801               0.003431  0.049813  3.291425   \n",
       "\n",
       "   Cornish-Fisher VaR (5%)  Historic CVaR (5%)  Sharpe Ratio  Max Drawdown  \n",
       "0                -0.001333           -0.000808      1.645445           0.0  "
      ]
     },
     "execution_count": 4,
     "metadata": {},
     "output_type": "execute_result"
    }
   ],
   "source": [
    "rates, zc_prices = erk.cir(10, 500, b=0.03, r_0=0.03)\n",
    "price_10 = erk.bond_price(10, 100, .05, 12, rates)\n",
    "price_30 = erk.bond_price(30, 100, .05, 12, rates)\n",
    "rets_10 = erk.bond_total_return(price_10, 100, .05, 12)\n",
    "rets_30 = erk.bond_total_return(price_30, 100, .05, 12)\n",
    "rets_bonds = bt_mix(rets_10, rets_30, allocator = fixedmix_allocator, w1 = .6)\n",
    "mean_rets_bonds = rets_bonds.mean(axis='columns')\n",
    "erk.summary_stats(pd.DataFrame(mean_rets_bonds))"
   ]
  },
  {
   "cell_type": "code",
   "execution_count": 5,
   "metadata": {},
   "outputs": [],
   "source": [
    "price_eq = erk.gbm(n_years=10, n_scenarios=500, mu=0.07, sigma=0.15)\n",
    "rets_eq = price_eq.pct_change().dropna()\n",
    "rets_zc = zc_prices.pct_change().dropna()"
   ]
  },
  {
   "cell_type": "code",
   "execution_count": 6,
   "metadata": {},
   "outputs": [
    {
     "data": {
      "text/html": [
       "<div>\n",
       "<style scoped>\n",
       "    .dataframe tbody tr th:only-of-type {\n",
       "        vertical-align: middle;\n",
       "    }\n",
       "\n",
       "    .dataframe tbody tr th {\n",
       "        vertical-align: top;\n",
       "    }\n",
       "\n",
       "    .dataframe thead th {\n",
       "        text-align: right;\n",
       "    }\n",
       "</style>\n",
       "<table border=\"1\" class=\"dataframe\">\n",
       "  <thead>\n",
       "    <tr style=\"text-align: right;\">\n",
       "      <th></th>\n",
       "      <th>Annualized Return</th>\n",
       "      <th>Annualized Volatility</th>\n",
       "      <th>Skewness</th>\n",
       "      <th>Kurtosis</th>\n",
       "      <th>Cornish-Fisher VaR (5%)</th>\n",
       "      <th>Historic CVaR (5%)</th>\n",
       "      <th>Sharpe Ratio</th>\n",
       "      <th>Max Drawdown</th>\n",
       "    </tr>\n",
       "  </thead>\n",
       "  <tbody>\n",
       "    <tr>\n",
       "      <th>0</th>\n",
       "      <td>0.058827</td>\n",
       "      <td>0.004397</td>\n",
       "      <td>0.208752</td>\n",
       "      <td>2.737255</td>\n",
       "      <td>-0.002766</td>\n",
       "      <td>-0.002424</td>\n",
       "      <td>6.38036</td>\n",
       "      <td>0.0</td>\n",
       "    </tr>\n",
       "  </tbody>\n",
       "</table>\n",
       "</div>"
      ],
      "text/plain": [
       "   Annualized Return  Annualized Volatility  Skewness  Kurtosis  \\\n",
       "0           0.058827               0.004397  0.208752  2.737255   \n",
       "\n",
       "   Cornish-Fisher VaR (5%)  Historic CVaR (5%)  Sharpe Ratio  Max Drawdown  \n",
       "0                -0.002766           -0.002424       6.38036           0.0  "
      ]
     },
     "execution_count": 6,
     "metadata": {},
     "output_type": "execute_result"
    }
   ],
   "source": [
    "# Create a portfolio composed of equities and bonds\n",
    "rets_7030b = erk.bt_mix(rets_eq, rets_bonds, allocator=erk.fixedmix_allocator, w1=0.7)\n",
    "rets_7030b_mean = rets_7030b.mean(axis='columns') # Mean return of 500 scenarios (it's a composite)\n",
    "erk.summary_stats(pd.DataFrame(rets_7030b_mean))\n",
    "# Sharpe Ratio is much higher compared to 60/40 short and long bonds"
   ]
  },
  {
   "cell_type": "code",
   "execution_count": 7,
   "metadata": {},
   "outputs": [
    {
     "data": {
      "text/html": [
       "<div>\n",
       "<style scoped>\n",
       "    .dataframe tbody tr th:only-of-type {\n",
       "        vertical-align: middle;\n",
       "    }\n",
       "\n",
       "    .dataframe tbody tr th {\n",
       "        vertical-align: top;\n",
       "    }\n",
       "\n",
       "    .dataframe thead th {\n",
       "        text-align: right;\n",
       "    }\n",
       "</style>\n",
       "<table border=\"1\" class=\"dataframe\">\n",
       "  <thead>\n",
       "    <tr style=\"text-align: right;\">\n",
       "      <th></th>\n",
       "      <th>Annualized Return</th>\n",
       "      <th>Annualized Volatility</th>\n",
       "      <th>Skewness</th>\n",
       "      <th>Kurtosis</th>\n",
       "      <th>Cornish-Fisher VaR (5%)</th>\n",
       "      <th>Historic CVaR (5%)</th>\n",
       "      <th>Sharpe Ratio</th>\n",
       "      <th>Max Drawdown</th>\n",
       "    </tr>\n",
       "  </thead>\n",
       "  <tbody>\n",
       "    <tr>\n",
       "      <th>0</th>\n",
       "      <td>0.056342</td>\n",
       "      <td>0.098027</td>\n",
       "      <td>-0.385341</td>\n",
       "      <td>2.981141</td>\n",
       "      <td>0.044387</td>\n",
       "      <td>0.056784</td>\n",
       "      <td>0.261419</td>\n",
       "      <td>-0.169410</td>\n",
       "    </tr>\n",
       "    <tr>\n",
       "      <th>1</th>\n",
       "      <td>0.090618</td>\n",
       "      <td>0.101098</td>\n",
       "      <td>0.405266</td>\n",
       "      <td>2.886013</td>\n",
       "      <td>0.036754</td>\n",
       "      <td>0.041918</td>\n",
       "      <td>0.583480</td>\n",
       "      <td>-0.109092</td>\n",
       "    </tr>\n",
       "    <tr>\n",
       "      <th>2</th>\n",
       "      <td>0.073166</td>\n",
       "      <td>0.111641</td>\n",
       "      <td>0.132631</td>\n",
       "      <td>3.248345</td>\n",
       "      <td>0.044994</td>\n",
       "      <td>0.059429</td>\n",
       "      <td>0.376193</td>\n",
       "      <td>-0.182995</td>\n",
       "    </tr>\n",
       "    <tr>\n",
       "      <th>3</th>\n",
       "      <td>0.088375</td>\n",
       "      <td>0.112669</td>\n",
       "      <td>0.012521</td>\n",
       "      <td>2.668337</td>\n",
       "      <td>0.045773</td>\n",
       "      <td>0.056859</td>\n",
       "      <td>0.504148</td>\n",
       "      <td>-0.168239</td>\n",
       "    </tr>\n",
       "    <tr>\n",
       "      <th>4</th>\n",
       "      <td>0.037014</td>\n",
       "      <td>0.103279</td>\n",
       "      <td>0.171915</td>\n",
       "      <td>3.046843</td>\n",
       "      <td>0.043866</td>\n",
       "      <td>0.055310</td>\n",
       "      <td>0.065972</td>\n",
       "      <td>-0.186920</td>\n",
       "    </tr>\n",
       "  </tbody>\n",
       "</table>\n",
       "</div>"
      ],
      "text/plain": [
       "   Annualized Return  Annualized Volatility  Skewness  Kurtosis  \\\n",
       "0           0.056342               0.098027 -0.385341  2.981141   \n",
       "1           0.090618               0.101098  0.405266  2.886013   \n",
       "2           0.073166               0.111641  0.132631  3.248345   \n",
       "3           0.088375               0.112669  0.012521  2.668337   \n",
       "4           0.037014               0.103279  0.171915  3.046843   \n",
       "\n",
       "   Cornish-Fisher VaR (5%)  Historic CVaR (5%)  Sharpe Ratio  Max Drawdown  \n",
       "0                 0.044387            0.056784      0.261419     -0.169410  \n",
       "1                 0.036754            0.041918      0.583480     -0.109092  \n",
       "2                 0.044994            0.059429      0.376193     -0.182995  \n",
       "3                 0.045773            0.056859      0.504148     -0.168239  \n",
       "4                 0.043866            0.055310      0.065972     -0.186920  "
      ]
     },
     "execution_count": 7,
     "metadata": {},
     "output_type": "execute_result"
    }
   ],
   "source": [
    "summaries = erk.summary_stats(rets_7030b)\n",
    "summaries.head()"
   ]
  },
  {
   "cell_type": "code",
   "execution_count": 8,
   "metadata": {},
   "outputs": [
    {
     "data": {
      "text/plain": [
       "Annualized Return          0.053290\n",
       "Annualized Volatility      0.107369\n",
       "Skewness                  -0.019035\n",
       "Kurtosis                   2.997732\n",
       "Cornish-Fisher VaR (5%)    0.046123\n",
       "Historic CVaR (5%)         0.058784\n",
       "Sharpe Ratio               0.212493\n",
       "Max Drawdown              -0.205529\n",
       "dtype: float64"
      ]
     },
     "execution_count": 8,
     "metadata": {},
     "output_type": "execute_result"
    }
   ],
   "source": [
    "summaries.mean()"
   ]
  },
  {
   "cell_type": "markdown",
   "metadata": {},
   "source": [
    "Different ways to create the composite.\n",
    "1st is to do the mean across all scenarios\n",
    "2nd is to do the mean across each statistic derived from each scenario"
   ]
  },
  {
   "cell_type": "code",
   "execution_count": 9,
   "metadata": {},
   "outputs": [],
   "source": [
    "def terminal_values(rets):\n",
    "    '''\n",
    "    Returns the final values of a dollar at the end of the return period for each scenario\n",
    "    '''\n",
    "    return (rets+1).prod()"
   ]
  },
  {
   "cell_type": "code",
   "execution_count": 10,
   "metadata": {},
   "outputs": [],
   "source": [
    "def terminal_stats(rets, floor=0.8, cap=np.inf, name='Stats'):\n",
    "    '''\n",
    "    Produce Summary Statistics on the terminal values per invested dollar\n",
    "    across a range of N scenarios\n",
    "    Rets is a T x N DataFrame of returns, where T is the time-step (we assume rets is sorted by time)\n",
    "    Returns a 1 column DataFrame of Summary Statistics indexed by the start name\n",
    "    '''\n",
    "    terminal_wealth = (rets+1).prod()\n",
    "    breach = terminal_wealth < floor\n",
    "    reach = terminal_wealth >= cap\n",
    "    p_breach = breach.mean() if breach.sum() > 0 else np.nan\n",
    "    p_reach = breach.mean() if reach.sum() > 0 else np.nan\n",
    "    e_short = (floor-terminal_wealth[breach]).mean() if breach.sum() > 0 else np.nan\n",
    "    e_surplus = (cap-terminal_wealth[reach]).mean() if reach.sum() > 0 else np.nan\n",
    "    sum_stats = pd.DataFrame.from_dict({\n",
    "        'mean': terminal_wealth.mean(),\n",
    "        'std': terminal_wealth.std(),\n",
    "        'p_breach': p_breach,\n",
    "        'e_short': e_short,\n",
    "        'p_reach': p_reach,\n",
    "        'e_surplus': e_surplus\n",
    "    }, orient='index', columns=[name])\n",
    "    return sum_stats"
   ]
  },
  {
   "cell_type": "code",
   "execution_count": 11,
   "metadata": {},
   "outputs": [
    {
     "data": {
      "text/html": [
       "<div>\n",
       "<style scoped>\n",
       "    .dataframe tbody tr th:only-of-type {\n",
       "        vertical-align: middle;\n",
       "    }\n",
       "\n",
       "    .dataframe tbody tr th {\n",
       "        vertical-align: top;\n",
       "    }\n",
       "\n",
       "    .dataframe thead th {\n",
       "        text-align: right;\n",
       "    }\n",
       "</style>\n",
       "<table border=\"1\" class=\"dataframe\">\n",
       "  <thead>\n",
       "    <tr style=\"text-align: right;\">\n",
       "      <th></th>\n",
       "      <th>FI</th>\n",
       "      <th>EQ</th>\n",
       "      <th>70/30</th>\n",
       "    </tr>\n",
       "  </thead>\n",
       "  <tbody>\n",
       "    <tr>\n",
       "      <th>mean</th>\n",
       "      <td>1.382744</td>\n",
       "      <td>1.928738</td>\n",
       "      <td>1.757855</td>\n",
       "    </tr>\n",
       "    <tr>\n",
       "      <th>std</th>\n",
       "      <td>0.108863</td>\n",
       "      <td>0.974289</td>\n",
       "      <td>0.590973</td>\n",
       "    </tr>\n",
       "    <tr>\n",
       "      <th>p_breach</th>\n",
       "      <td>NaN</td>\n",
       "      <td>0.036000</td>\n",
       "      <td>0.004000</td>\n",
       "    </tr>\n",
       "    <tr>\n",
       "      <th>e_short</th>\n",
       "      <td>NaN</td>\n",
       "      <td>0.112804</td>\n",
       "      <td>0.063148</td>\n",
       "    </tr>\n",
       "    <tr>\n",
       "      <th>p_reach</th>\n",
       "      <td>NaN</td>\n",
       "      <td>NaN</td>\n",
       "      <td>NaN</td>\n",
       "    </tr>\n",
       "    <tr>\n",
       "      <th>e_surplus</th>\n",
       "      <td>NaN</td>\n",
       "      <td>NaN</td>\n",
       "      <td>NaN</td>\n",
       "    </tr>\n",
       "  </tbody>\n",
       "</table>\n",
       "</div>"
      ],
      "text/plain": [
       "                 FI        EQ     70/30\n",
       "mean       1.382744  1.928738  1.757855\n",
       "std        0.108863  0.974289  0.590973\n",
       "p_breach        NaN  0.036000  0.004000\n",
       "e_short         NaN  0.112804  0.063148\n",
       "p_reach         NaN       NaN       NaN\n",
       "e_surplus       NaN       NaN       NaN"
      ]
     },
     "execution_count": 11,
     "metadata": {},
     "output_type": "execute_result"
    }
   ],
   "source": [
    "pd.concat([\n",
    "    erk.terminal_stats(rets_bonds, name='FI'),\n",
    "    erk.terminal_stats(rets_eq, name='EQ'),\n",
    "    erk.terminal_stats(rets_7030b, name='70/30')\n",
    "], axis=1)"
   ]
  },
  {
   "cell_type": "markdown",
   "metadata": {},
   "source": [
    "For Equities, there is a 3% chance to breach the floor at the terminal date.\n",
    "e_short is the average of all scenarios of how much you miss the floor.\n",
    "Here, since the floor is 80%, meaning 0.80 cents, in average we end up at 80%-11% = 69% or 0.69 cents."
   ]
  },
  {
   "cell_type": "code",
   "execution_count": 15,
   "metadata": {},
   "outputs": [
    {
     "name": "stderr",
     "output_type": "stream",
     "text": [
      "C:\\Users\\Mikael\\anaconda3\\lib\\site-packages\\seaborn\\distributions.py:2551: FutureWarning: `distplot` is a deprecated function and will be removed in a future version. Please adapt your code to use either `displot` (a figure-level function with similar flexibility) or `histplot` (an axes-level function for histograms).\n",
      "  warnings.warn(msg, FutureWarning)\n",
      "C:\\Users\\Mikael\\anaconda3\\lib\\site-packages\\seaborn\\distributions.py:2551: FutureWarning: `distplot` is a deprecated function and will be removed in a future version. Please adapt your code to use either `displot` (a figure-level function with similar flexibility) or `histplot` (an axes-level function for histograms).\n",
      "  warnings.warn(msg, FutureWarning)\n",
      "C:\\Users\\Mikael\\anaconda3\\lib\\site-packages\\seaborn\\distributions.py:2551: FutureWarning: `distplot` is a deprecated function and will be removed in a future version. Please adapt your code to use either `displot` (a figure-level function with similar flexibility) or `histplot` (an axes-level function for histograms).\n",
      "  warnings.warn(msg, FutureWarning)\n"
     ]
    },
    {
     "data": {
      "image/png": "[encoded data removed]",
      "text/plain": [
       "<Figure size 864x432 with 1 Axes>"
      ]
     },
     "metadata": {
      "needs_background": "light"
     },
     "output_type": "display_data"
    }
   ],
   "source": [
    "import seaborn as sns\n",
    "import matplotlib.pyplot as plt\n",
    "plt.figure(figsize=(12,6))\n",
    "sns.distplot(erk.terminal_values(rets_eq), color='red', label='100% Equities')\n",
    "sns.distplot(erk.terminal_values(rets_bonds), color='blue', label='100% Bonds')\n",
    "sns.distplot(erk.terminal_values(rets_7030b), color='orange', label='70/30 Equities/Bonds')\n",
    "plt.legend();"
   ]
  },
  {
   "cell_type": "markdown",
   "metadata": {},
   "source": [
    "We want to eliminate the cases where we are below 1 on the X-axis (meaning we cannot fulfill our liability)"
   ]
  },
  {
   "cell_type": "markdown",
   "metadata": {},
   "source": [
    "# Glide Paths For Allocation"
   ]
  },
  {
   "cell_type": "code",
   "execution_count": 17,
   "metadata": {},
   "outputs": [],
   "source": [
    "def glidepath_allocator(r1, r2, start_glide=1, end_glide=0):\n",
    "    '''\n",
    "    Simulates a Target-Date-Fund style gradual move from r1 to r2\n",
    "    '''\n",
    "    n_points = r1.shape[0]\n",
    "    n_col = r1.shape[1]\n",
    "    path = pd.Series(data=np.linspace(start_glide, end_glide, num=n_points))\n",
    "    paths = pd.concat([path]*n_col, axis=1) # Replicates our column\n",
    "    paths.index = r1.index\n",
    "    paths.columns = r1.columns\n",
    "    return paths"
   ]
  },
  {
   "cell_type": "code",
   "execution_count": 19,
   "metadata": {},
   "outputs": [
    {
     "data": {
      "text/html": [
       "<div>\n",
       "<style scoped>\n",
       "    .dataframe tbody tr th:only-of-type {\n",
       "        vertical-align: middle;\n",
       "    }\n",
       "\n",
       "    .dataframe tbody tr th {\n",
       "        vertical-align: top;\n",
       "    }\n",
       "\n",
       "    .dataframe thead th {\n",
       "        text-align: right;\n",
       "    }\n",
       "</style>\n",
       "<table border=\"1\" class=\"dataframe\">\n",
       "  <thead>\n",
       "    <tr style=\"text-align: right;\">\n",
       "      <th></th>\n",
       "      <th>FI</th>\n",
       "      <th>EQ</th>\n",
       "      <th>70/30</th>\n",
       "      <th>Glide Path 80 to 20</th>\n",
       "    </tr>\n",
       "  </thead>\n",
       "  <tbody>\n",
       "    <tr>\n",
       "      <th>mean</th>\n",
       "      <td>1.382744</td>\n",
       "      <td>1.928738</td>\n",
       "      <td>1.757855</td>\n",
       "      <td>1.634934</td>\n",
       "    </tr>\n",
       "    <tr>\n",
       "      <th>std</th>\n",
       "      <td>0.108863</td>\n",
       "      <td>0.974289</td>\n",
       "      <td>0.590973</td>\n",
       "      <td>0.406749</td>\n",
       "    </tr>\n",
       "    <tr>\n",
       "      <th>p_breach</th>\n",
       "      <td>NaN</td>\n",
       "      <td>0.036000</td>\n",
       "      <td>0.004000</td>\n",
       "      <td>0.002000</td>\n",
       "    </tr>\n",
       "    <tr>\n",
       "      <th>e_short</th>\n",
       "      <td>NaN</td>\n",
       "      <td>0.112804</td>\n",
       "      <td>0.063148</td>\n",
       "      <td>0.002476</td>\n",
       "    </tr>\n",
       "    <tr>\n",
       "      <th>p_reach</th>\n",
       "      <td>NaN</td>\n",
       "      <td>NaN</td>\n",
       "      <td>NaN</td>\n",
       "      <td>NaN</td>\n",
       "    </tr>\n",
       "    <tr>\n",
       "      <th>e_surplus</th>\n",
       "      <td>NaN</td>\n",
       "      <td>NaN</td>\n",
       "      <td>NaN</td>\n",
       "      <td>NaN</td>\n",
       "    </tr>\n",
       "  </tbody>\n",
       "</table>\n",
       "</div>"
      ],
      "text/plain": [
       "                 FI        EQ     70/30  Glide Path 80 to 20\n",
       "mean       1.382744  1.928738  1.757855             1.634934\n",
       "std        0.108863  0.974289  0.590973             0.406749\n",
       "p_breach        NaN  0.036000  0.004000             0.002000\n",
       "e_short         NaN  0.112804  0.063148             0.002476\n",
       "p_reach         NaN       NaN       NaN                  NaN\n",
       "e_surplus       NaN       NaN       NaN                  NaN"
      ]
     },
     "execution_count": 19,
     "metadata": {},
     "output_type": "execute_result"
    }
   ],
   "source": [
    "rets_g8020 = erk.bt_mix(rets_eq, rets_bonds, allocator=erk.glidepath_allocator, start_glide=.8, end_glide=.2)\n",
    "pd.concat([\n",
    "    erk.terminal_stats(rets_bonds, name='FI'),\n",
    "    erk.terminal_stats(rets_eq, name='EQ'),\n",
    "    erk.terminal_stats(rets_7030b, name='70/30'),\n",
    "    erk.terminal_stats(rets_g8020, name='Glide Path 80 to 20')\n",
    "], axis=1)"
   ]
  },
  {
   "cell_type": "code",
   "execution_count": null,
   "metadata": {},
   "outputs": [],
   "source": []
  }
 ],
 "metadata": {
  "kernelspec": {
   "display_name": "Python 3",
   "language": "python",
   "name": "python3"
  },
  "language_info": {
   "codemirror_mode": {
    "name": "ipython",
    "version": 3
   },
   "file_extension": ".py",
   "mimetype": "text/x-python",
   "name": "python",
   "nbconvert_exporter": "python",
   "pygments_lexer": "ipython3",
   "version": "3.8.5"
  }
 },
 "nbformat": 4,
 "nbformat_minor": 4
}
