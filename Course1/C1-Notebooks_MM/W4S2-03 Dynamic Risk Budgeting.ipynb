{
 "cells": [
  {
   "cell_type": "code",
   "execution_count": 1,
   "metadata": {},
   "outputs": [],
   "source": [
    "import numpy as np\n",
    "import pandas as pd\n",
    "import edhec_risk_kit as erk\n",
    "import matplotlib.pyplot as plt\n",
    "import seaborn as sns\n",
    "\n",
    "%load_ext autoreload\n",
    "%autoreload 2"
   ]
  },
  {
   "cell_type": "code",
   "execution_count": 3,
   "metadata": {},
   "outputs": [],
   "source": [
    "n_scenarios = 5000\n",
    "rates, zc_prices = erk.cir(10, n_scenarios=n_scenarios, b=0.03, r_0=0.03,sigma=0.2)\n",
    "price_eq = erk.gbm(n_years=10, n_scenarios=n_scenarios,mu=0.07,sigma=0.15)"
   ]
  },
  {
   "cell_type": "code",
   "execution_count": 4,
   "metadata": {},
   "outputs": [
    {
     "data": {
      "text/html": [
       "<div>\n",
       "<style scoped>\n",
       "    .dataframe tbody tr th:only-of-type {\n",
       "        vertical-align: middle;\n",
       "    }\n",
       "\n",
       "    .dataframe tbody tr th {\n",
       "        vertical-align: top;\n",
       "    }\n",
       "\n",
       "    .dataframe thead th {\n",
       "        text-align: right;\n",
       "    }\n",
       "</style>\n",
       "<table border=\"1\" class=\"dataframe\">\n",
       "  <thead>\n",
       "    <tr style=\"text-align: right;\">\n",
       "      <th></th>\n",
       "      <th>ZC</th>\n",
       "      <th>EQ</th>\n",
       "      <th>70/30</th>\n",
       "    </tr>\n",
       "  </thead>\n",
       "  <tbody>\n",
       "    <tr>\n",
       "      <th>mean</th>\n",
       "      <td>1.23</td>\n",
       "      <td>1.98</td>\n",
       "      <td>1.75</td>\n",
       "    </tr>\n",
       "    <tr>\n",
       "      <th>std</th>\n",
       "      <td>0.00</td>\n",
       "      <td>1.01</td>\n",
       "      <td>0.61</td>\n",
       "    </tr>\n",
       "    <tr>\n",
       "      <th>p_breach</th>\n",
       "      <td>NaN</td>\n",
       "      <td>0.03</td>\n",
       "      <td>0.01</td>\n",
       "    </tr>\n",
       "    <tr>\n",
       "      <th>e_short</th>\n",
       "      <td>NaN</td>\n",
       "      <td>0.13</td>\n",
       "      <td>0.09</td>\n",
       "    </tr>\n",
       "    <tr>\n",
       "      <th>p_reach</th>\n",
       "      <td>NaN</td>\n",
       "      <td>NaN</td>\n",
       "      <td>NaN</td>\n",
       "    </tr>\n",
       "    <tr>\n",
       "      <th>e_surplus</th>\n",
       "      <td>NaN</td>\n",
       "      <td>NaN</td>\n",
       "      <td>NaN</td>\n",
       "    </tr>\n",
       "  </tbody>\n",
       "</table>\n",
       "</div>"
      ],
      "text/plain": [
       "             ZC    EQ  70/30\n",
       "mean       1.23  1.98   1.75\n",
       "std        0.00  1.01   0.61\n",
       "p_breach    NaN  0.03   0.01\n",
       "e_short     NaN  0.13   0.09\n",
       "p_reach     NaN   NaN    NaN\n",
       "e_surplus   NaN   NaN    NaN"
      ]
     },
     "execution_count": 4,
     "metadata": {},
     "output_type": "execute_result"
    }
   ],
   "source": [
    "rets_eq = price_eq.pct_change().dropna()\n",
    "rets_zc = zc_prices.pct_change().dropna()\n",
    "rets_7030b = erk.bt_mix(rets_eq, rets_zc, allocator=erk.fixedmix_allocator, w1=0.7)\n",
    "pd.concat([\n",
    "    erk.terminal_stats(rets_zc, name='ZC', floor=0.75),\n",
    "    erk.terminal_stats(rets_eq, name='EQ', floor=0.75),\n",
    "    erk.terminal_stats(rets_7030b, name='70/30', floor=0.75)\n",
    "], axis=1).round(2)"
   ]
  },
  {
   "cell_type": "code",
   "execution_count": 5,
   "metadata": {},
   "outputs": [],
   "source": [
    "# Let's try to solve these breaches.\n",
    "# Allocator right now does not take into account the floor. So let's fix this\n",
    "def floor_allocator(psp_r, ghp_r, floor, zc_prices, m=3):\n",
    "    '''\n",
    "    Allocate between PSP and GHP with the goal to provide exposure to the upside\n",
    "    of the PSP without going violating the floor.\n",
    "    Uses a CPPI-style dynamic risk budgeting algorithm by investing a multiple\n",
    "    of the cushion in the PSP.\n",
    "    Returns a DataFrame with the same shape as the psp/ghp representing the weights in the PSP\n",
    "    '''\n",
    "    if zc_prices.shape != psp_r.shape:\n",
    "        raise ValueError('PSP and ZC Prices must have the same shape')\n",
    "    n_steps, n_scenarios = psp_r.shape\n",
    "    account_value = np.repeat(1, n_scenarios)\n",
    "    floor_value = np.repeat(1, n_scenarios)\n",
    "    w_history = pd.DataFrame(index=psp_r.index, columns=psp_r.columns)\n",
    "    for step in range(n_steps):\n",
    "        floor_value = floor*zc_prices.iloc[step]\n",
    "        cushion = (account_value-floor_value)/account_value\n",
    "        psp_w = (m*cushion).clip(0, 1) #same as applying min and max\n",
    "        ghp_w = 1-psp_w\n",
    "        psp_alloc = account_value*psp_w\n",
    "        ghp_alloc=account_value*ghp_w\n",
    "        # Recompute the new account value at the end of this step\n",
    "        account_value = psp_alloc*(1+psp_r.iloc[step]) + ghp_alloc*(1+ghp_r.iloc[step])\n",
    "        w_history.iloc[step] = psp_w\n",
    "    return w_history"
   ]
  },
  {
   "cell_type": "code",
   "execution_count": 7,
   "metadata": {},
   "outputs": [
    {
     "data": {
      "text/html": [
       "<div>\n",
       "<style scoped>\n",
       "    .dataframe tbody tr th:only-of-type {\n",
       "        vertical-align: middle;\n",
       "    }\n",
       "\n",
       "    .dataframe tbody tr th {\n",
       "        vertical-align: top;\n",
       "    }\n",
       "\n",
       "    .dataframe thead th {\n",
       "        text-align: right;\n",
       "    }\n",
       "</style>\n",
       "<table border=\"1\" class=\"dataframe\">\n",
       "  <thead>\n",
       "    <tr style=\"text-align: right;\">\n",
       "      <th></th>\n",
       "      <th>ZC</th>\n",
       "      <th>EQ</th>\n",
       "      <th>70/30</th>\n",
       "      <th>Floor75</th>\n",
       "    </tr>\n",
       "  </thead>\n",
       "  <tbody>\n",
       "    <tr>\n",
       "      <th>mean</th>\n",
       "      <td>1.23</td>\n",
       "      <td>1.98</td>\n",
       "      <td>1.75</td>\n",
       "      <td>1.97</td>\n",
       "    </tr>\n",
       "    <tr>\n",
       "      <th>std</th>\n",
       "      <td>0.00</td>\n",
       "      <td>1.01</td>\n",
       "      <td>0.61</td>\n",
       "      <td>1.00</td>\n",
       "    </tr>\n",
       "    <tr>\n",
       "      <th>p_breach</th>\n",
       "      <td>NaN</td>\n",
       "      <td>0.03</td>\n",
       "      <td>0.01</td>\n",
       "      <td>NaN</td>\n",
       "    </tr>\n",
       "    <tr>\n",
       "      <th>e_short</th>\n",
       "      <td>NaN</td>\n",
       "      <td>0.13</td>\n",
       "      <td>0.09</td>\n",
       "      <td>NaN</td>\n",
       "    </tr>\n",
       "    <tr>\n",
       "      <th>p_reach</th>\n",
       "      <td>NaN</td>\n",
       "      <td>NaN</td>\n",
       "      <td>NaN</td>\n",
       "      <td>NaN</td>\n",
       "    </tr>\n",
       "    <tr>\n",
       "      <th>e_surplus</th>\n",
       "      <td>NaN</td>\n",
       "      <td>NaN</td>\n",
       "      <td>NaN</td>\n",
       "      <td>NaN</td>\n",
       "    </tr>\n",
       "  </tbody>\n",
       "</table>\n",
       "</div>"
      ],
      "text/plain": [
       "             ZC    EQ  70/30  Floor75\n",
       "mean       1.23  1.98   1.75     1.97\n",
       "std        0.00  1.01   0.61     1.00\n",
       "p_breach    NaN  0.03   0.01      NaN\n",
       "e_short     NaN  0.13   0.09      NaN\n",
       "p_reach     NaN   NaN    NaN      NaN\n",
       "e_surplus   NaN   NaN    NaN      NaN"
      ]
     },
     "execution_count": 7,
     "metadata": {},
     "output_type": "execute_result"
    }
   ],
   "source": [
    "rets_floor75 = erk.bt_mix(rets_eq, rets_zc, allocator=erk.floor_allocator, floor=.75, zc_prices=zc_prices[1:])\n",
    "pd.concat([\n",
    "    erk.terminal_stats(rets_zc, name='ZC', floor=0.75),\n",
    "    erk.terminal_stats(rets_eq, name='EQ', floor=0.75),\n",
    "    erk.terminal_stats(rets_7030b, name='70/30', floor=0.75),\n",
    "    erk.terminal_stats(rets_floor75, name='Floor75', floor=0.75)\n",
    "], axis=1).round(2)"
   ]
  },
  {
   "cell_type": "code",
   "execution_count": 9,
   "metadata": {},
   "outputs": [
    {
     "data": {
      "text/html": [
       "<div>\n",
       "<style scoped>\n",
       "    .dataframe tbody tr th:only-of-type {\n",
       "        vertical-align: middle;\n",
       "    }\n",
       "\n",
       "    .dataframe tbody tr th {\n",
       "        vertical-align: top;\n",
       "    }\n",
       "\n",
       "    .dataframe thead th {\n",
       "        text-align: right;\n",
       "    }\n",
       "</style>\n",
       "<table border=\"1\" class=\"dataframe\">\n",
       "  <thead>\n",
       "    <tr style=\"text-align: right;\">\n",
       "      <th></th>\n",
       "      <th>ZC</th>\n",
       "      <th>EQ</th>\n",
       "      <th>70/30</th>\n",
       "      <th>Floor75</th>\n",
       "      <th>Floor75 M1</th>\n",
       "      <th>Floor75 M5</th>\n",
       "    </tr>\n",
       "  </thead>\n",
       "  <tbody>\n",
       "    <tr>\n",
       "      <th>mean</th>\n",
       "      <td>1.23</td>\n",
       "      <td>1.98</td>\n",
       "      <td>1.75</td>\n",
       "      <td>1.97</td>\n",
       "      <td>1.69</td>\n",
       "      <td>1.97</td>\n",
       "    </tr>\n",
       "    <tr>\n",
       "      <th>std</th>\n",
       "      <td>0.00</td>\n",
       "      <td>1.01</td>\n",
       "      <td>0.61</td>\n",
       "      <td>1.00</td>\n",
       "      <td>0.47</td>\n",
       "      <td>1.01</td>\n",
       "    </tr>\n",
       "    <tr>\n",
       "      <th>p_breach</th>\n",
       "      <td>NaN</td>\n",
       "      <td>0.03</td>\n",
       "      <td>0.01</td>\n",
       "      <td>NaN</td>\n",
       "      <td>NaN</td>\n",
       "      <td>0.00</td>\n",
       "    </tr>\n",
       "    <tr>\n",
       "      <th>e_short</th>\n",
       "      <td>NaN</td>\n",
       "      <td>0.13</td>\n",
       "      <td>0.09</td>\n",
       "      <td>NaN</td>\n",
       "      <td>NaN</td>\n",
       "      <td>0.00</td>\n",
       "    </tr>\n",
       "    <tr>\n",
       "      <th>p_reach</th>\n",
       "      <td>NaN</td>\n",
       "      <td>NaN</td>\n",
       "      <td>NaN</td>\n",
       "      <td>NaN</td>\n",
       "      <td>NaN</td>\n",
       "      <td>NaN</td>\n",
       "    </tr>\n",
       "    <tr>\n",
       "      <th>e_surplus</th>\n",
       "      <td>NaN</td>\n",
       "      <td>NaN</td>\n",
       "      <td>NaN</td>\n",
       "      <td>NaN</td>\n",
       "      <td>NaN</td>\n",
       "      <td>NaN</td>\n",
       "    </tr>\n",
       "  </tbody>\n",
       "</table>\n",
       "</div>"
      ],
      "text/plain": [
       "             ZC    EQ  70/30  Floor75  Floor75 M1  Floor75 M5\n",
       "mean       1.23  1.98   1.75     1.97        1.69        1.97\n",
       "std        0.00  1.01   0.61     1.00        0.47        1.01\n",
       "p_breach    NaN  0.03   0.01      NaN         NaN        0.00\n",
       "e_short     NaN  0.13   0.09      NaN         NaN        0.00\n",
       "p_reach     NaN   NaN    NaN      NaN         NaN         NaN\n",
       "e_surplus   NaN   NaN    NaN      NaN         NaN         NaN"
      ]
     },
     "execution_count": 9,
     "metadata": {},
     "output_type": "execute_result"
    }
   ],
   "source": [
    "rets_floor75m1 = erk.bt_mix(rets_eq, rets_zc, allocator=erk.floor_allocator, floor=.75, zc_prices=zc_prices[1:], m=1)\n",
    "rets_floor75m5 = erk.bt_mix(rets_eq, rets_zc, allocator=erk.floor_allocator, floor=.75, zc_prices=zc_prices[1:], m=5)\n",
    "pd.concat([\n",
    "    erk.terminal_stats(rets_zc, name='ZC', floor=0.75),\n",
    "    erk.terminal_stats(rets_eq, name='EQ', floor=0.75),\n",
    "    erk.terminal_stats(rets_7030b, name='70/30', floor=0.75),\n",
    "    erk.terminal_stats(rets_floor75, name='Floor75', floor=0.75),\n",
    "    erk.terminal_stats(rets_floor75m1, name='Floor75 M1', floor=0.75),\n",
    "    erk.terminal_stats(rets_floor75m5, name='Floor75 M5', floor=0.75)\n",
    "], axis=1).round(2)"
   ]
  },
  {
   "cell_type": "code",
   "execution_count": 10,
   "metadata": {},
   "outputs": [
    {
     "data": {
      "text/html": [
       "<div>\n",
       "<style scoped>\n",
       "    .dataframe tbody tr th:only-of-type {\n",
       "        vertical-align: middle;\n",
       "    }\n",
       "\n",
       "    .dataframe tbody tr th {\n",
       "        vertical-align: top;\n",
       "    }\n",
       "\n",
       "    .dataframe thead th {\n",
       "        text-align: right;\n",
       "    }\n",
       "</style>\n",
       "<table border=\"1\" class=\"dataframe\">\n",
       "  <thead>\n",
       "    <tr style=\"text-align: right;\">\n",
       "      <th></th>\n",
       "      <th>ZC</th>\n",
       "      <th>EQ</th>\n",
       "      <th>70/30</th>\n",
       "      <th>Floor75</th>\n",
       "      <th>Floor75 M1</th>\n",
       "      <th>Floor75 M5</th>\n",
       "    </tr>\n",
       "  </thead>\n",
       "  <tbody>\n",
       "    <tr>\n",
       "      <th>mean</th>\n",
       "      <td>1.2349</td>\n",
       "      <td>1.9756</td>\n",
       "      <td>1.7535</td>\n",
       "      <td>1.9658</td>\n",
       "      <td>1.6853</td>\n",
       "      <td>1.9658</td>\n",
       "    </tr>\n",
       "    <tr>\n",
       "      <th>std</th>\n",
       "      <td>0.0000</td>\n",
       "      <td>1.0051</td>\n",
       "      <td>0.6057</td>\n",
       "      <td>0.9982</td>\n",
       "      <td>0.4671</td>\n",
       "      <td>1.0065</td>\n",
       "    </tr>\n",
       "    <tr>\n",
       "      <th>p_breach</th>\n",
       "      <td>NaN</td>\n",
       "      <td>0.0314</td>\n",
       "      <td>0.0078</td>\n",
       "      <td>NaN</td>\n",
       "      <td>NaN</td>\n",
       "      <td>0.0004</td>\n",
       "    </tr>\n",
       "    <tr>\n",
       "      <th>e_short</th>\n",
       "      <td>NaN</td>\n",
       "      <td>0.1286</td>\n",
       "      <td>0.0882</td>\n",
       "      <td>NaN</td>\n",
       "      <td>NaN</td>\n",
       "      <td>0.0021</td>\n",
       "    </tr>\n",
       "    <tr>\n",
       "      <th>p_reach</th>\n",
       "      <td>NaN</td>\n",
       "      <td>NaN</td>\n",
       "      <td>NaN</td>\n",
       "      <td>NaN</td>\n",
       "      <td>NaN</td>\n",
       "      <td>NaN</td>\n",
       "    </tr>\n",
       "    <tr>\n",
       "      <th>e_surplus</th>\n",
       "      <td>NaN</td>\n",
       "      <td>NaN</td>\n",
       "      <td>NaN</td>\n",
       "      <td>NaN</td>\n",
       "      <td>NaN</td>\n",
       "      <td>NaN</td>\n",
       "    </tr>\n",
       "  </tbody>\n",
       "</table>\n",
       "</div>"
      ],
      "text/plain": [
       "               ZC      EQ   70/30  Floor75  Floor75 M1  Floor75 M5\n",
       "mean       1.2349  1.9756  1.7535   1.9658      1.6853      1.9658\n",
       "std        0.0000  1.0051  0.6057   0.9982      0.4671      1.0065\n",
       "p_breach      NaN  0.0314  0.0078      NaN         NaN      0.0004\n",
       "e_short       NaN  0.1286  0.0882      NaN         NaN      0.0021\n",
       "p_reach       NaN     NaN     NaN      NaN         NaN         NaN\n",
       "e_surplus     NaN     NaN     NaN      NaN         NaN         NaN"
      ]
     },
     "execution_count": 10,
     "metadata": {},
     "output_type": "execute_result"
    }
   ],
   "source": [
    "pd.concat([\n",
    "    erk.terminal_stats(rets_zc, name='ZC', floor=0.75),\n",
    "    erk.terminal_stats(rets_eq, name='EQ', floor=0.75),\n",
    "    erk.terminal_stats(rets_7030b, name='70/30', floor=0.75),\n",
    "    erk.terminal_stats(rets_floor75, name='Floor75', floor=0.75),\n",
    "    erk.terminal_stats(rets_floor75m1, name='Floor75 M1', floor=0.75),\n",
    "    erk.terminal_stats(rets_floor75m5, name='Floor75 M5', floor=0.75)\n",
    "], axis=1).round(4)"
   ]
  },
  {
   "cell_type": "markdown",
   "metadata": {},
   "source": [
    "# Risk Budgeting with Drawdown Constraints"
   ]
  },
  {
   "cell_type": "code",
   "execution_count": 12,
   "metadata": {},
   "outputs": [
    {
     "data": {
      "text/html": [
       "<div>\n",
       "<style scoped>\n",
       "    .dataframe tbody tr th:only-of-type {\n",
       "        vertical-align: middle;\n",
       "    }\n",
       "\n",
       "    .dataframe tbody tr th {\n",
       "        vertical-align: top;\n",
       "    }\n",
       "\n",
       "    .dataframe thead th {\n",
       "        text-align: right;\n",
       "    }\n",
       "</style>\n",
       "<table border=\"1\" class=\"dataframe\">\n",
       "  <thead>\n",
       "    <tr style=\"text-align: right;\">\n",
       "      <th></th>\n",
       "      <th>ZC</th>\n",
       "      <th>EQ</th>\n",
       "      <th>70/30</th>\n",
       "      <th>Floor75</th>\n",
       "      <th>Floor75 M1</th>\n",
       "      <th>Floor75 M5</th>\n",
       "      <th>MaxDrawdown 0.25</th>\n",
       "    </tr>\n",
       "  </thead>\n",
       "  <tbody>\n",
       "    <tr>\n",
       "      <th>mean</th>\n",
       "      <td>1.2349</td>\n",
       "      <td>1.9756</td>\n",
       "      <td>1.7535</td>\n",
       "      <td>1.9658</td>\n",
       "      <td>1.6853</td>\n",
       "      <td>1.9658</td>\n",
       "      <td>1.6327</td>\n",
       "    </tr>\n",
       "    <tr>\n",
       "      <th>std</th>\n",
       "      <td>0.0000</td>\n",
       "      <td>1.0051</td>\n",
       "      <td>0.6057</td>\n",
       "      <td>0.9982</td>\n",
       "      <td>0.4671</td>\n",
       "      <td>1.0065</td>\n",
       "      <td>0.5510</td>\n",
       "    </tr>\n",
       "    <tr>\n",
       "      <th>p_breach</th>\n",
       "      <td>NaN</td>\n",
       "      <td>0.0314</td>\n",
       "      <td>0.0078</td>\n",
       "      <td>NaN</td>\n",
       "      <td>NaN</td>\n",
       "      <td>0.0004</td>\n",
       "      <td>NaN</td>\n",
       "    </tr>\n",
       "    <tr>\n",
       "      <th>e_short</th>\n",
       "      <td>NaN</td>\n",
       "      <td>0.1286</td>\n",
       "      <td>0.0882</td>\n",
       "      <td>NaN</td>\n",
       "      <td>NaN</td>\n",
       "      <td>0.0021</td>\n",
       "      <td>NaN</td>\n",
       "    </tr>\n",
       "    <tr>\n",
       "      <th>p_reach</th>\n",
       "      <td>NaN</td>\n",
       "      <td>NaN</td>\n",
       "      <td>NaN</td>\n",
       "      <td>NaN</td>\n",
       "      <td>NaN</td>\n",
       "      <td>NaN</td>\n",
       "      <td>NaN</td>\n",
       "    </tr>\n",
       "    <tr>\n",
       "      <th>e_surplus</th>\n",
       "      <td>NaN</td>\n",
       "      <td>NaN</td>\n",
       "      <td>NaN</td>\n",
       "      <td>NaN</td>\n",
       "      <td>NaN</td>\n",
       "      <td>NaN</td>\n",
       "      <td>NaN</td>\n",
       "    </tr>\n",
       "  </tbody>\n",
       "</table>\n",
       "</div>"
      ],
      "text/plain": [
       "               ZC      EQ   70/30  Floor75  Floor75 M1  Floor75 M5  \\\n",
       "mean       1.2349  1.9756  1.7535   1.9658      1.6853      1.9658   \n",
       "std        0.0000  1.0051  0.6057   0.9982      0.4671      1.0065   \n",
       "p_breach      NaN  0.0314  0.0078      NaN         NaN      0.0004   \n",
       "e_short       NaN  0.1286  0.0882      NaN         NaN      0.0021   \n",
       "p_reach       NaN     NaN     NaN      NaN         NaN         NaN   \n",
       "e_surplus     NaN     NaN     NaN      NaN         NaN         NaN   \n",
       "\n",
       "           MaxDrawdown 0.25  \n",
       "mean                 1.6327  \n",
       "std                  0.5510  \n",
       "p_breach                NaN  \n",
       "e_short                 NaN  \n",
       "p_reach                 NaN  \n",
       "e_surplus               NaN  "
      ]
     },
     "execution_count": 12,
     "metadata": {},
     "output_type": "execute_result"
    }
   ],
   "source": [
    "cashrate = 0.02\n",
    "monthly_cashreturn = (1+cashrate)**(1/12)-1\n",
    "rets_cash = pd.DataFrame(data=monthly_cashreturn, index=rets_eq.index, columns=rets_eq.columns)\n",
    "rets_maxdd25 = erk.bt_mix(rets_eq, rets_cash, allocator=erk.drawdown_allocator, maxdd=0.25)\n",
    "tv_maxdd25 = erk.terminal_values(rets_maxdd25)\n",
    "pd.concat([\n",
    "    erk.terminal_stats(rets_zc, name='ZC', floor=0.75),\n",
    "    erk.terminal_stats(rets_eq, name='EQ', floor=0.75),\n",
    "    erk.terminal_stats(rets_7030b, name='70/30', floor=0.75),\n",
    "    erk.terminal_stats(rets_floor75, name='Floor75', floor=0.75),\n",
    "    erk.terminal_stats(rets_floor75m1, name='Floor75 M1', floor=0.75),\n",
    "    erk.terminal_stats(rets_floor75m5, name='Floor75 M5', floor=0.75),\n",
    "    erk.terminal_stats(rets_maxdd25, name='MaxDrawdown 0.25', floor=0.75)\n",
    "], axis=1).round(4)"
   ]
  },
  {
   "cell_type": "code",
   "execution_count": 13,
   "metadata": {},
   "outputs": [
    {
     "data": {
      "text/plain": [
       "0   -0.172984\n",
       "1   -0.161977\n",
       "2   -0.160800\n",
       "3   -0.194885\n",
       "4   -0.124138\n",
       "Name: Max Drawdown, dtype: float64"
      ]
     },
     "execution_count": 13,
     "metadata": {},
     "output_type": "execute_result"
    }
   ],
   "source": [
    "erk.summary_stats(rets_maxdd25)['Max Drawdown'].head()"
   ]
  },
  {
   "cell_type": "code",
   "execution_count": 14,
   "metadata": {},
   "outputs": [
    {
     "data": {
      "text/plain": [
       "-0.23619544051435842"
      ]
     },
     "execution_count": 14,
     "metadata": {},
     "output_type": "execute_result"
    }
   ],
   "source": [
    "erk.summary_stats(rets_maxdd25)['Max Drawdown'].min()"
   ]
  },
  {
   "cell_type": "code",
   "execution_count": 17,
   "metadata": {},
   "outputs": [
    {
     "name": "stderr",
     "output_type": "stream",
     "text": [
      "C:\\Users\\Mikael\\anaconda3\\lib\\site-packages\\seaborn\\distributions.py:2551: FutureWarning: `distplot` is a deprecated function and will be removed in a future version. Please adapt your code to use either `displot` (a figure-level function with similar flexibility) or `histplot` (an axes-level function for histograms).\n",
      "  warnings.warn(msg, FutureWarning)\n",
      "C:\\Users\\Mikael\\anaconda3\\lib\\site-packages\\seaborn\\distributions.py:2551: FutureWarning: `distplot` is a deprecated function and will be removed in a future version. Please adapt your code to use either `displot` (a figure-level function with similar flexibility) or `histplot` (an axes-level function for histograms).\n",
      "  warnings.warn(msg, FutureWarning)\n",
      "C:\\Users\\Mikael\\anaconda3\\lib\\site-packages\\seaborn\\distributions.py:2551: FutureWarning: `distplot` is a deprecated function and will be removed in a future version. Please adapt your code to use either `displot` (a figure-level function with similar flexibility) or `histplot` (an axes-level function for histograms).\n",
      "  warnings.warn(msg, FutureWarning)\n",
      "C:\\Users\\Mikael\\anaconda3\\lib\\site-packages\\seaborn\\distributions.py:2551: FutureWarning: `distplot` is a deprecated function and will be removed in a future version. Please adapt your code to use either `displot` (a figure-level function with similar flexibility) or `histplot` (an axes-level function for histograms).\n",
      "  warnings.warn(msg, FutureWarning)\n"
     ]
    },
    {
     "data": {
      "image/png": "[encoded data removed]",
      "text/plain": [
       "<Figure size 864x432 with 1 Axes>"
      ]
     },
     "metadata": {
      "needs_background": "light"
     },
     "output_type": "display_data"
    }
   ],
   "source": [
    "tv_eq = erk.terminal_values(rets_eq)\n",
    "tv_zc = erk.terminal_values(rets_zc)\n",
    "tv_7030b = erk.terminal_values(rets_7030b)\n",
    "tv_floor75 = erk.terminal_values(rets_floor75)\n",
    "tv_maxdd25 = erk.terminal_values(rets_maxdd25)\n",
    "\n",
    "plt.figure(figsize=(12,6))\n",
    "sns.distplot(tv_eq, color='red', label='100% Equities', bins=100)\n",
    "plt.axvline(tv_eq.mean(), ls='--', color='red')\n",
    "sns.distplot(tv_7030b, color='orange', label='70/30 Equities/Bonds', bins=100)\n",
    "plt.axvline(tv_7030b.mean(), ls='--', color='orange')\n",
    "sns.distplot(tv_floor75, color='green', label='Floor at 75%', bins=100)\n",
    "plt.axvline(tv_floor75.mean(), ls='--', color='green')\n",
    "sns.distplot(tv_maxdd25, color='yellow', label='MaxDD = 25%', bins=100)\n",
    "plt.axvline(tv_maxdd25.mean(), ls='--', color='yellow')\n",
    "plt.legend();"
   ]
  },
  {
   "cell_type": "markdown",
   "metadata": {},
   "source": [
    "# Drawdown constraint with historical data"
   ]
  },
  {
   "cell_type": "code",
   "execution_count": 20,
   "metadata": {},
   "outputs": [
    {
     "data": {
      "text/plain": [
       "<AxesSubplot:>"
      ]
     },
     "execution_count": 20,
     "metadata": {},
     "output_type": "execute_result"
    },
    {
     "data": {
      "image/png": "[encoded data removed]",
      "text/plain": [
       "<Figure size 864x432 with 1 Axes>"
      ]
     },
     "metadata": {
      "needs_background": "light"
     },
     "output_type": "display_data"
    }
   ],
   "source": [
    "rets_tmi = erk.get_total_market_index_returns()['1990':]\n",
    "dd_tmi = erk.drawdown(rets_tmi)\n",
    "ax = dd_tmi['Wealth'].plot(figsize=(12,6), ls='-', color='goldenrod')\n",
    "dd_tmi['Peaks'].plot(ax=ax, ls=':', color='goldenrod')"
   ]
  },
  {
   "cell_type": "code",
   "execution_count": 27,
   "metadata": {},
   "outputs": [
    {
     "data": {
      "text/plain": [
       "<AxesSubplot:>"
      ]
     },
     "execution_count": 27,
     "metadata": {},
     "output_type": "execute_result"
    },
    {
     "data": {
      "image/png": "[encoded data removed]",
      "text/plain": [
       "<Figure size 864x432 with 1 Axes>"
      ]
     },
     "metadata": {
      "needs_background": "light"
     },
     "output_type": "display_data"
    }
   ],
   "source": [
    "cashrate = 0.03\n",
    "monthly_cashreturn = (1+cashrate)**(1/12)-1\n",
    "rets_cash = pd.DataFrame(data=monthly_cashreturn, index=rets_tmi.index, columns=[0]) # 1 column DataFrame\n",
    "rets_maxdd25 = erk.bt_mix(pd.DataFrame(rets_tmi), rets_cash, allocator=erk.drawdown_allocator, maxdd=0.25, m=5)\n",
    "dd_25 = erk.drawdown(rets_maxdd25[0])\n",
    "\n",
    "ax = dd_tmi['Wealth'].plot(figsize=(12,6), ls='-', color='goldenrod', label='Market', legend=True)\n",
    "dd_tmi['Peaks'].plot(ax=ax, ls=':', color='goldenrod')\n",
    "dd_25['Wealth'].plot(ax=ax, label='MaxDD 25%', legend=True, color='cornflowerblue')\n",
    "dd_25['Peaks'].plot(ax=ax, color='cornflowerblue', ls=':')"
   ]
  },
  {
   "cell_type": "code",
   "execution_count": null,
   "metadata": {},
   "outputs": [],
   "source": []
  }
 ],
 "metadata": {
  "kernelspec": {
   "display_name": "Python 3",
   "language": "python",
   "name": "python3"
  },
  "language_info": {
   "codemirror_mode": {
    "name": "ipython",
    "version": 3
   },
   "file_extension": ".py",
   "mimetype": "text/x-python",
   "name": "python",
   "nbconvert_exporter": "python",
   "pygments_lexer": "ipython3",
   "version": "3.8.5"
  }
 },
 "nbformat": 4,
 "nbformat_minor": 4
}
