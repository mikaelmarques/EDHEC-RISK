{
 "cells": [
  {
   "cell_type": "code",
   "execution_count": 1,
   "metadata": {},
   "outputs": [],
   "source": [
    "import edhec_risk_kit_206 as erk\n",
    "import pandas as pd\n",
    "import numpy as np"
   ]
  },
  {
   "cell_type": "code",
   "execution_count": 2,
   "metadata": {},
   "outputs": [
    {
     "data": {
      "text/html": [
       "<div>\n",
       "<style scoped>\n",
       "    .dataframe tbody tr th:only-of-type {\n",
       "        vertical-align: middle;\n",
       "    }\n",
       "\n",
       "    .dataframe tbody tr th {\n",
       "        vertical-align: top;\n",
       "    }\n",
       "\n",
       "    .dataframe thead th {\n",
       "        text-align: right;\n",
       "    }\n",
       "</style>\n",
       "<table border=\"1\" class=\"dataframe\">\n",
       "  <thead>\n",
       "    <tr style=\"text-align: right;\">\n",
       "      <th></th>\n",
       "      <th>Annualized Return</th>\n",
       "      <th>Annualized Vol</th>\n",
       "      <th>Skewness</th>\n",
       "      <th>Kurtosis</th>\n",
       "      <th>Cornish-Fisher VaR (5%)</th>\n",
       "      <th>Historic CVaR (5%)</th>\n",
       "      <th>Sharpe Ratio</th>\n",
       "      <th>Max Drawdown</th>\n",
       "    </tr>\n",
       "  </thead>\n",
       "  <tbody>\n",
       "    <tr>\n",
       "      <th>CW</th>\n",
       "      <td>0.065196</td>\n",
       "      <td>0.151478</td>\n",
       "      <td>-0.556621</td>\n",
       "      <td>4.249894</td>\n",
       "      <td>0.071076</td>\n",
       "      <td>0.098531</td>\n",
       "      <td>0.225949</td>\n",
       "      <td>-0.51899</td>\n",
       "    </tr>\n",
       "    <tr>\n",
       "      <th>EW</th>\n",
       "      <td>0.077614</td>\n",
       "      <td>0.158685</td>\n",
       "      <td>-0.538531</td>\n",
       "      <td>5.317042</td>\n",
       "      <td>0.072485</td>\n",
       "      <td>0.106220</td>\n",
       "      <td>0.291838</td>\n",
       "      <td>-0.53298</td>\n",
       "    </tr>\n",
       "  </tbody>\n",
       "</table>\n",
       "</div>"
      ],
      "text/plain": [
       "    Annualized Return  Annualized Vol  Skewness  Kurtosis  \\\n",
       "CW           0.065196        0.151478 -0.556621  4.249894   \n",
       "EW           0.077614        0.158685 -0.538531  5.317042   \n",
       "\n",
       "    Cornish-Fisher VaR (5%)  Historic CVaR (5%)  Sharpe Ratio  Max Drawdown  \n",
       "CW                 0.071076            0.098531      0.225949      -0.51899  \n",
       "EW                 0.072485            0.106220      0.291838      -0.53298  "
      ]
     },
     "execution_count": 2,
     "metadata": {},
     "output_type": "execute_result"
    }
   ],
   "source": [
    "ind_rets = erk.get_ind_returns(weighting='vw')\n",
    "ind_rets = ind_rets['1997':]\n",
    "ind_mcap = erk.get_ind_market_caps(weights=True)\n",
    "\n",
    "btr_cw = erk.backtest_ws(ind_rets, estimation_window=36, weighting=erk.weight_cw, cap_weights=ind_mcap)\n",
    "btr_ew = erk.backtest_ws(ind_rets, estimation_window=36, weighting=erk.weight_ew)\n",
    "btr = pd.DataFrame(data={'CW': btr_cw, 'EW': btr_ew}).dropna()\n",
    "erk.summary_stats(btr)"
   ]
  },
  {
   "cell_type": "code",
   "execution_count": 3,
   "metadata": {},
   "outputs": [
    {
     "data": {
      "text/html": [
       "<div>\n",
       "<style scoped>\n",
       "    .dataframe tbody tr th:only-of-type {\n",
       "        vertical-align: middle;\n",
       "    }\n",
       "\n",
       "    .dataframe tbody tr th {\n",
       "        vertical-align: top;\n",
       "    }\n",
       "\n",
       "    .dataframe thead th {\n",
       "        text-align: right;\n",
       "    }\n",
       "</style>\n",
       "<table border=\"1\" class=\"dataframe\">\n",
       "  <thead>\n",
       "    <tr style=\"text-align: right;\">\n",
       "      <th></th>\n",
       "      <th>Annualized Return</th>\n",
       "      <th>Annualized Vol</th>\n",
       "      <th>Skewness</th>\n",
       "      <th>Kurtosis</th>\n",
       "      <th>Cornish-Fisher VaR (5%)</th>\n",
       "      <th>Historic CVaR (5%)</th>\n",
       "      <th>Sharpe Ratio</th>\n",
       "      <th>Max Drawdown</th>\n",
       "    </tr>\n",
       "  </thead>\n",
       "  <tbody>\n",
       "    <tr>\n",
       "      <th>CW</th>\n",
       "      <td>0.065196</td>\n",
       "      <td>0.151478</td>\n",
       "      <td>-0.556621</td>\n",
       "      <td>4.249894</td>\n",
       "      <td>0.071076</td>\n",
       "      <td>0.098531</td>\n",
       "      <td>0.225949</td>\n",
       "      <td>-0.518990</td>\n",
       "    </tr>\n",
       "    <tr>\n",
       "      <th>EW</th>\n",
       "      <td>0.077614</td>\n",
       "      <td>0.158685</td>\n",
       "      <td>-0.538531</td>\n",
       "      <td>5.317042</td>\n",
       "      <td>0.072485</td>\n",
       "      <td>0.106220</td>\n",
       "      <td>0.291838</td>\n",
       "      <td>-0.532980</td>\n",
       "    </tr>\n",
       "    <tr>\n",
       "      <th>EW Tethered</th>\n",
       "      <td>0.076838</td>\n",
       "      <td>0.140774</td>\n",
       "      <td>-0.649872</td>\n",
       "      <td>4.664374</td>\n",
       "      <td>0.065482</td>\n",
       "      <td>0.093766</td>\n",
       "      <td>0.323653</td>\n",
       "      <td>-0.487413</td>\n",
       "    </tr>\n",
       "  </tbody>\n",
       "</table>\n",
       "</div>"
      ],
      "text/plain": [
       "             Annualized Return  Annualized Vol  Skewness  Kurtosis  \\\n",
       "CW                    0.065196        0.151478 -0.556621  4.249894   \n",
       "EW                    0.077614        0.158685 -0.538531  5.317042   \n",
       "EW Tethered           0.076838        0.140774 -0.649872  4.664374   \n",
       "\n",
       "             Cornish-Fisher VaR (5%)  Historic CVaR (5%)  Sharpe Ratio  \\\n",
       "CW                          0.071076            0.098531      0.225949   \n",
       "EW                          0.072485            0.106220      0.291838   \n",
       "EW Tethered                 0.065482            0.093766      0.323653   \n",
       "\n",
       "             Max Drawdown  \n",
       "CW              -0.518990  \n",
       "EW              -0.532980  \n",
       "EW Tethered     -0.487413  "
      ]
     },
     "execution_count": 3,
     "metadata": {},
     "output_type": "execute_result"
    }
   ],
   "source": [
    "btr_ew_tethered = erk.backtest_ws(ind_rets,\n",
    "                                  estimation_window=36,\n",
    "                                  weighting=erk.weight_ew,\n",
    "                                  cap_weights=ind_mcap,\n",
    "                                  max_cw_mult=2,\n",
    "                                  microcap_threshold=0.01)\n",
    "btr['EW Tethered'] = btr_ew_tethered.dropna()\n",
    "erk.summary_stats(btr)"
   ]
  },
  {
   "cell_type": "code",
   "execution_count": 4,
   "metadata": {},
   "outputs": [
    {
     "data": {
      "text/plain": [
       "0.18752094143646486"
      ]
     },
     "execution_count": 4,
     "metadata": {},
     "output_type": "execute_result"
    }
   ],
   "source": [
    "erk.tracking_error(btr_ew, btr_cw)"
   ]
  },
  {
   "cell_type": "code",
   "execution_count": 5,
   "metadata": {},
   "outputs": [
    {
     "data": {
      "text/plain": [
       "0.11671015519949166"
      ]
     },
     "execution_count": 5,
     "metadata": {},
     "output_type": "execute_result"
    }
   ],
   "source": [
    "erk.tracking_error(btr_ew_tethered, btr_cw)"
   ]
  },
  {
   "cell_type": "code",
   "execution_count": 6,
   "metadata": {},
   "outputs": [
    {
     "data": {
      "text/html": [
       "<div>\n",
       "<style scoped>\n",
       "    .dataframe tbody tr th:only-of-type {\n",
       "        vertical-align: middle;\n",
       "    }\n",
       "\n",
       "    .dataframe tbody tr th {\n",
       "        vertical-align: top;\n",
       "    }\n",
       "\n",
       "    .dataframe thead th {\n",
       "        text-align: right;\n",
       "    }\n",
       "</style>\n",
       "<table border=\"1\" class=\"dataframe\">\n",
       "  <thead>\n",
       "    <tr style=\"text-align: right;\">\n",
       "      <th></th>\n",
       "      <th>Annualized Return</th>\n",
       "      <th>Annualized Vol</th>\n",
       "      <th>Skewness</th>\n",
       "      <th>Kurtosis</th>\n",
       "      <th>Cornish-Fisher VaR (5%)</th>\n",
       "      <th>Historic CVaR (5%)</th>\n",
       "      <th>Sharpe Ratio</th>\n",
       "      <th>Max Drawdown</th>\n",
       "    </tr>\n",
       "  </thead>\n",
       "  <tbody>\n",
       "    <tr>\n",
       "      <th>CW</th>\n",
       "      <td>0.065196</td>\n",
       "      <td>0.151478</td>\n",
       "      <td>-0.556621</td>\n",
       "      <td>4.249894</td>\n",
       "      <td>0.071076</td>\n",
       "      <td>0.098531</td>\n",
       "      <td>0.225949</td>\n",
       "      <td>-0.518990</td>\n",
       "    </tr>\n",
       "    <tr>\n",
       "      <th>EW</th>\n",
       "      <td>0.077614</td>\n",
       "      <td>0.158685</td>\n",
       "      <td>-0.538531</td>\n",
       "      <td>5.317042</td>\n",
       "      <td>0.072485</td>\n",
       "      <td>0.106220</td>\n",
       "      <td>0.291838</td>\n",
       "      <td>-0.532980</td>\n",
       "    </tr>\n",
       "    <tr>\n",
       "      <th>EW Tethered</th>\n",
       "      <td>0.076838</td>\n",
       "      <td>0.140774</td>\n",
       "      <td>-0.649872</td>\n",
       "      <td>4.664374</td>\n",
       "      <td>0.065482</td>\n",
       "      <td>0.093766</td>\n",
       "      <td>0.323653</td>\n",
       "      <td>-0.487413</td>\n",
       "    </tr>\n",
       "    <tr>\n",
       "      <th>GMV</th>\n",
       "      <td>0.066306</td>\n",
       "      <td>0.117410</td>\n",
       "      <td>-0.741089</td>\n",
       "      <td>4.469212</td>\n",
       "      <td>0.055456</td>\n",
       "      <td>0.080583</td>\n",
       "      <td>0.300815</td>\n",
       "      <td>-0.421289</td>\n",
       "    </tr>\n",
       "  </tbody>\n",
       "</table>\n",
       "</div>"
      ],
      "text/plain": [
       "             Annualized Return  Annualized Vol  Skewness  Kurtosis  \\\n",
       "CW                    0.065196        0.151478 -0.556621  4.249894   \n",
       "EW                    0.077614        0.158685 -0.538531  5.317042   \n",
       "EW Tethered           0.076838        0.140774 -0.649872  4.664374   \n",
       "GMV                   0.066306        0.117410 -0.741089  4.469212   \n",
       "\n",
       "             Cornish-Fisher VaR (5%)  Historic CVaR (5%)  Sharpe Ratio  \\\n",
       "CW                          0.071076            0.098531      0.225949   \n",
       "EW                          0.072485            0.106220      0.291838   \n",
       "EW Tethered                 0.065482            0.093766      0.323653   \n",
       "GMV                         0.055456            0.080583      0.300815   \n",
       "\n",
       "             Max Drawdown  \n",
       "CW              -0.518990  \n",
       "EW              -0.532980  \n",
       "EW Tethered     -0.487413  \n",
       "GMV             -0.421289  "
      ]
     },
     "execution_count": 6,
     "metadata": {},
     "output_type": "execute_result"
    }
   ],
   "source": [
    "btr_gmv = erk.backtest_ws(ind_rets, estimation_window=36, weighting=erk.weight_gmv, cov_estimator=erk.sample_cov)\n",
    "btr['GMV'] = btr_gmv\n",
    "erk.summary_stats(btr)"
   ]
  },
  {
   "cell_type": "code",
   "execution_count": 7,
   "metadata": {},
   "outputs": [
    {
     "data": {
      "text/html": [
       "<div>\n",
       "<style scoped>\n",
       "    .dataframe tbody tr th:only-of-type {\n",
       "        vertical-align: middle;\n",
       "    }\n",
       "\n",
       "    .dataframe tbody tr th {\n",
       "        vertical-align: top;\n",
       "    }\n",
       "\n",
       "    .dataframe thead th {\n",
       "        text-align: right;\n",
       "    }\n",
       "</style>\n",
       "<table border=\"1\" class=\"dataframe\">\n",
       "  <thead>\n",
       "    <tr style=\"text-align: right;\">\n",
       "      <th></th>\n",
       "      <th>Annualized Return</th>\n",
       "      <th>Annualized Vol</th>\n",
       "      <th>Skewness</th>\n",
       "      <th>Kurtosis</th>\n",
       "      <th>Cornish-Fisher VaR (5%)</th>\n",
       "      <th>Historic CVaR (5%)</th>\n",
       "      <th>Sharpe Ratio</th>\n",
       "      <th>Max Drawdown</th>\n",
       "    </tr>\n",
       "  </thead>\n",
       "  <tbody>\n",
       "    <tr>\n",
       "      <th>CW</th>\n",
       "      <td>0.065196</td>\n",
       "      <td>0.151478</td>\n",
       "      <td>-0.556621</td>\n",
       "      <td>4.249894</td>\n",
       "      <td>0.071076</td>\n",
       "      <td>0.098531</td>\n",
       "      <td>0.225949</td>\n",
       "      <td>-0.518990</td>\n",
       "    </tr>\n",
       "    <tr>\n",
       "      <th>EW</th>\n",
       "      <td>0.077614</td>\n",
       "      <td>0.158685</td>\n",
       "      <td>-0.538531</td>\n",
       "      <td>5.317042</td>\n",
       "      <td>0.072485</td>\n",
       "      <td>0.106220</td>\n",
       "      <td>0.291838</td>\n",
       "      <td>-0.532980</td>\n",
       "    </tr>\n",
       "    <tr>\n",
       "      <th>EW Tethered</th>\n",
       "      <td>0.076838</td>\n",
       "      <td>0.140774</td>\n",
       "      <td>-0.649872</td>\n",
       "      <td>4.664374</td>\n",
       "      <td>0.065482</td>\n",
       "      <td>0.093766</td>\n",
       "      <td>0.323653</td>\n",
       "      <td>-0.487413</td>\n",
       "    </tr>\n",
       "    <tr>\n",
       "      <th>GMV</th>\n",
       "      <td>0.066306</td>\n",
       "      <td>0.117410</td>\n",
       "      <td>-0.741089</td>\n",
       "      <td>4.469212</td>\n",
       "      <td>0.055456</td>\n",
       "      <td>0.080583</td>\n",
       "      <td>0.300815</td>\n",
       "      <td>-0.421289</td>\n",
       "    </tr>\n",
       "    <tr>\n",
       "      <th>Shrinkage</th>\n",
       "      <td>0.068467</td>\n",
       "      <td>0.114572</td>\n",
       "      <td>-0.731294</td>\n",
       "      <td>4.264951</td>\n",
       "      <td>0.053884</td>\n",
       "      <td>0.077715</td>\n",
       "      <td>0.326636</td>\n",
       "      <td>-0.393410</td>\n",
       "    </tr>\n",
       "  </tbody>\n",
       "</table>\n",
       "</div>"
      ],
      "text/plain": [
       "             Annualized Return  Annualized Vol  Skewness  Kurtosis  \\\n",
       "CW                    0.065196        0.151478 -0.556621  4.249894   \n",
       "EW                    0.077614        0.158685 -0.538531  5.317042   \n",
       "EW Tethered           0.076838        0.140774 -0.649872  4.664374   \n",
       "GMV                   0.066306        0.117410 -0.741089  4.469212   \n",
       "Shrinkage             0.068467        0.114572 -0.731294  4.264951   \n",
       "\n",
       "             Cornish-Fisher VaR (5%)  Historic CVaR (5%)  Sharpe Ratio  \\\n",
       "CW                          0.071076            0.098531      0.225949   \n",
       "EW                          0.072485            0.106220      0.291838   \n",
       "EW Tethered                 0.065482            0.093766      0.323653   \n",
       "GMV                         0.055456            0.080583      0.300815   \n",
       "Shrinkage                   0.053884            0.077715      0.326636   \n",
       "\n",
       "             Max Drawdown  \n",
       "CW              -0.518990  \n",
       "EW              -0.532980  \n",
       "EW Tethered     -0.487413  \n",
       "GMV             -0.421289  \n",
       "Shrinkage       -0.393410  "
      ]
     },
     "execution_count": 7,
     "metadata": {},
     "output_type": "execute_result"
    }
   ],
   "source": [
    "btr_shrink = erk.backtest_ws(ind_rets, estimation_window=36, weighting=erk.weight_gmv, cov_estimator=erk.shrinkage_cov, delta=0.25)\n",
    "btr['Shrinkage'] = btr_shrink\n",
    "erk.summary_stats(btr)"
   ]
  },
  {
   "cell_type": "code",
   "execution_count": 8,
   "metadata": {},
   "outputs": [
    {
     "data": {
      "text/plain": [
       "<AxesSubplot:>"
      ]
     },
     "execution_count": 8,
     "metadata": {},
     "output_type": "execute_result"
    },
    {
     "data": {
      "image/png": "[encoded data removed]",
      "text/plain": [
       "<Figure size 864x432 with 1 Axes>"
      ]
     },
     "metadata": {
      "needs_background": "light"
     },
     "output_type": "display_data"
    }
   ],
   "source": [
    "(1+btr).cumprod().plot(figsize=(12,6))"
   ]
  },
  {
   "cell_type": "code",
   "execution_count": null,
   "metadata": {},
   "outputs": [],
   "source": []
  }
 ],
 "metadata": {
  "kernelspec": {
   "display_name": "Python 3",
   "language": "python",
   "name": "python3"
  },
  "language_info": {
   "codemirror_mode": {
    "name": "ipython",
    "version": 3
   },
   "file_extension": ".py",
   "mimetype": "text/x-python",
   "name": "python",
   "nbconvert_exporter": "python",
   "pygments_lexer": "ipython3",
   "version": "3.8.5"
  }
 },
 "nbformat": 4,
 "nbformat_minor": 4
}
