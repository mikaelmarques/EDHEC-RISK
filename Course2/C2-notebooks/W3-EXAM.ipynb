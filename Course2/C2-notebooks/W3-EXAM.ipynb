{
 "cells": [
  {
   "cell_type": "code",
   "execution_count": 1,
   "metadata": {},
   "outputs": [],
   "source": [
    "import pandas as pd\n",
    "import numpy as np\n",
    "import edhec_risk_kit_206 as erk\n",
    "\n",
    "ind_returns = erk.get_ind_file('returns', n_inds=49)\n",
    "ind_capweights = erk.get_ind_market_caps(n_inds=49, weights=True)\n",
    "\n",
    "ind_returns = ind_returns['2013':'2018'][['Hlth', 'Fin', 'Whlsl', 'Rtail', 'Food']]\n",
    "ind_capweights = ind_capweights['2013':'2018'][['Hlth', 'Fin', 'Whlsl', 'Rtail', 'Food']]"
   ]
  },
  {
   "cell_type": "code",
   "execution_count": 2,
   "metadata": {},
   "outputs": [
    {
     "data": {
      "text/plain": [
       "Hlth     0.042624\n",
       "Fin      0.184533\n",
       "Whlsl    0.096043\n",
       "Rtail    0.537344\n",
       "Food     0.139456\n",
       "Name: 2013-02, dtype: float64"
      ]
     },
     "execution_count": 2,
     "metadata": {},
     "output_type": "execute_result"
    }
   ],
   "source": [
    "ind_capw_period1 = erk.weight_cw(ind_returns, ind_capweights)\n",
    "ind_capw_period1"
   ]
  },
  {
   "cell_type": "code",
   "execution_count": 3,
   "metadata": {},
   "outputs": [],
   "source": [
    "def implied_returns(delta, sigma, w):\n",
    "    \"\"\"\n",
    "Obtain the implied expected returns by reverse engineering the weights\n",
    "Inputs:\n",
    "delta: Risk Aversion Coefficient (scalar)\n",
    "sigma: Variance-Covariance Matrix (N x N) as DataFrame\n",
    "    w: Portfolio weights (N x 1) as Series\n",
    "Returns an N x 1 vector of Returns as Series\n",
    "    \"\"\"\n",
    "    ir = delta * sigma.dot(w).squeeze() # to get a series from a 1-column dataframe\n",
    "    ir.name = 'Implied Returns'\n",
    "    return ir"
   ]
  },
  {
   "cell_type": "code",
   "execution_count": 23,
   "metadata": {},
   "outputs": [
    {
     "data": {
      "text/plain": [
       "(          0         1         2         3         4\n",
       " 0  0.026504  0.014335  0.014374  0.013204  0.007588\n",
       " 1  0.014335  0.028141  0.017695  0.014105  0.007216\n",
       " 2  0.014374  0.017695  0.018399  0.014249  0.009206\n",
       " 3  0.013204  0.014105  0.014249  0.019948  0.010185\n",
       " 4  0.007588  0.007216  0.009206  0.010185  0.015725,\n",
       "            Hlth       Fin     Whlsl     Rtail      Food\n",
       " Hlth   0.108718  0.057064  0.070764  0.062429  0.040410\n",
       " Fin    0.057064  0.108718  0.084545  0.064723  0.037292\n",
       " Whlsl  0.070764  0.084545  0.108718  0.080859  0.058843\n",
       " Rtail  0.062429  0.064723  0.080859  0.108718  0.062519\n",
       " Food   0.040410  0.037292  0.058843  0.062519  0.108718,\n",
       "            Hlth       Fin     Whlsl     Rtail      Food\n",
       " Hlth   0.026504  0.014335  0.014374  0.013204  0.007588\n",
       " Fin    0.014335  0.028141  0.017695  0.014105  0.007216\n",
       " Whlsl  0.014374  0.017695  0.018399  0.014249  0.009206\n",
       " Rtail  0.013204  0.014105  0.014249  0.019948  0.010185\n",
       " Food   0.007588  0.007216  0.009206  0.010185  0.015725)"
      ]
     },
     "execution_count": 23,
     "metadata": {},
     "output_type": "execute_result"
    }
   ],
   "source": [
    "delta = 2.5\n",
    "rho = ind_returns.corr()\n",
    "vols = ind_returns.std()*12**.5\n",
    "sigma_prior = vols.dot(vols.T)*rho\n",
    "pie = implied_returns(delta, sigma_prior, ind_capw_period1)\n",
    "\n",
    "# Covariance matrix created in the lab and in this exercise is false\n",
    "# Correct version is below, which is the same as using .cov()*12 (annualized covariance)\n",
    "# vols2 = np.diag(ind_returns.std()*12**.5)\n",
    "# sigma2 = vols2 @ rho @ vols2"
   ]
  },
  {
   "cell_type": "code",
   "execution_count": 5,
   "metadata": {},
   "outputs": [
    {
     "data": {
      "text/html": [
       "<div>\n",
       "<style scoped>\n",
       "    .dataframe tbody tr th:only-of-type {\n",
       "        vertical-align: middle;\n",
       "    }\n",
       "\n",
       "    .dataframe tbody tr th {\n",
       "        vertical-align: top;\n",
       "    }\n",
       "\n",
       "    .dataframe thead th {\n",
       "        text-align: right;\n",
       "    }\n",
       "</style>\n",
       "<table border=\"1\" class=\"dataframe\">\n",
       "  <thead>\n",
       "    <tr style=\"text-align: right;\">\n",
       "      <th></th>\n",
       "      <th>Hlth</th>\n",
       "      <th>Fin</th>\n",
       "      <th>Whlsl</th>\n",
       "      <th>Rtail</th>\n",
       "      <th>Food</th>\n",
       "    </tr>\n",
       "  </thead>\n",
       "  <tbody>\n",
       "    <tr>\n",
       "      <th>0</th>\n",
       "      <td>1.0</td>\n",
       "      <td>0.0</td>\n",
       "      <td>-0.151635</td>\n",
       "      <td>-0.848365</td>\n",
       "      <td>0.0</td>\n",
       "    </tr>\n",
       "  </tbody>\n",
       "</table>\n",
       "</div>"
      ],
      "text/plain": [
       "   Hlth  Fin     Whlsl     Rtail  Food\n",
       "0   1.0  0.0 -0.151635 -0.848365   0.0"
      ]
     },
     "execution_count": 5,
     "metadata": {},
     "output_type": "execute_result"
    }
   ],
   "source": [
    "q = pd.Series([0.05])\n",
    "p = pd.DataFrame([0.]*len(ind_returns.columns), index=ind_returns.columns).T\n",
    "w_rtail = ind_capw_period1.loc[\"Rtail\"]/(ind_capw_period1.loc[\"Rtail\"]+ind_capw_period1.loc[\"Whlsl\"])\n",
    "w_whlsl = ind_capw_period1.loc[\"Whlsl\"]/(ind_capw_period1.loc[\"Rtail\"]+ind_capw_period1.loc[\"Whlsl\"])\n",
    "p.iloc[0]['Hlth'] = 1.\n",
    "p.iloc[0]['Rtail'] = -w_rtail\n",
    "p.iloc[0]['Whlsl'] = -w_whlsl\n",
    "p"
   ]
  },
  {
   "cell_type": "code",
   "execution_count": 6,
   "metadata": {},
   "outputs": [],
   "source": [
    "def proportional_prior(sigma, tau, p):\n",
    "    \"\"\"\n",
    "    Returns the He-Litterman simplified Omega\n",
    "    Inputs:\n",
    "    sigma: N x N Covariance Matrix as DataFrame\n",
    "    tau: a scalar\n",
    "    p: a K x N DataFrame linking Q and Assets\n",
    "    returns a P x P DataFrame, a Matrix representing Prior Uncertainties\n",
    "    \"\"\"\n",
    "    helit_omega = p.dot(tau * sigma).dot(p.T)\n",
    "    # Make a diag matrix from the diag elements of Omega\n",
    "    return pd.DataFrame(np.diag(np.diag(helit_omega.values)),index=p.index, columns=p.index)\n",
    "\n",
    "from numpy.linalg import inv\n",
    "\n",
    "def bl(w_prior, sigma_prior, p, q,\n",
    "                omega=None,\n",
    "                delta=2.5, tau=.02):\n",
    "    \"\"\"\n",
    "# Computes the posterior expected returns based on \n",
    "# the original black litterman reference model\n",
    "#\n",
    "# W.prior must be an N x 1 vector of weights, a Series\n",
    "# Sigma.prior is an N x N covariance matrix, a DataFrame\n",
    "# P must be a K x N matrix linking Q and the Assets, a DataFrame\n",
    "# Q must be an K x 1 vector of views, a Series\n",
    "# Omega must be a K x K matrix a DataFrame, or None\n",
    "# if Omega is None, we assume it is\n",
    "#    proportional to variance of the prior\n",
    "# delta and tau are scalars\n",
    "    \"\"\"\n",
    "    if omega is None:\n",
    "        omega = proportional_prior(sigma_prior, tau, p)\n",
    "    # Force w.prior and Q to be column vectors\n",
    "    # How many assets do we have?\n",
    "    N = w_prior.shape[0]\n",
    "    # And how many views?\n",
    "    K = q.shape[0]\n",
    "    # First, reverse-engineer the weights to get pi\n",
    "    pi = implied_returns(delta, sigma_prior,  w_prior)\n",
    "    # Adjust (scale) Sigma by the uncertainty scaling factor\n",
    "    sigma_prior_scaled = tau * sigma_prior  \n",
    "    # posterior estimate of the mean, use the \"Master Formula\"\n",
    "    # we use the versions that do not require\n",
    "    # Omega to be inverted (see previous section)\n",
    "    # this is easier to read if we use '@' for matrixmult instead of .dot()\n",
    "    #     mu_bl = pi + sigma_prior_scaled @ p.T @ inv(p @ sigma_prior_scaled @ p.T + omega) @ (q - p @ pi)\n",
    "    mu_bl = pi + sigma_prior_scaled.dot(p.T).dot(inv(p.dot(sigma_prior_scaled).dot(p.T) + omega).dot(q - p.dot(pi).values))\n",
    "    # posterior estimate of uncertainty of mu.bl\n",
    "#     sigma_bl = sigma_prior + sigma_prior_scaled - sigma_prior_scaled @ p.T @ inv(p @ sigma_prior_scaled @ p.T + omega) @ p @ sigma_prior_scaled\n",
    "    sigma_bl = sigma_prior + sigma_prior_scaled - sigma_prior_scaled.dot(p.T).dot(inv(p.dot(sigma_prior_scaled).dot(p.T) + omega)).dot(p).dot(sigma_prior_scaled)\n",
    "    return (mu_bl, sigma_bl)"
   ]
  },
  {
   "cell_type": "code",
   "execution_count": 7,
   "metadata": {},
   "outputs": [
    {
     "data": {
      "text/plain": [
       "Hlth     0.184792\n",
       "Fin      0.168919\n",
       "Whlsl    0.191629\n",
       "Rtail    0.193932\n",
       "Food     0.142241\n",
       "dtype: float64"
      ]
     },
     "execution_count": 7,
     "metadata": {},
     "output_type": "execute_result"
    }
   ],
   "source": [
    "tau = 0.05\n",
    "bl_mu, bl_sigma = bl(ind_capw_period1, sigma_prior, p, q, tau = tau)\n",
    "bl_mu"
   ]
  },
  {
   "cell_type": "code",
   "execution_count": 8,
   "metadata": {},
   "outputs": [
    {
     "data": {
      "text/plain": [
       "Hlth     31.0\n",
       "Fin      17.6\n",
       "Whlsl     5.1\n",
       "Rtail    28.3\n",
       "Food     13.3\n",
       "dtype: float64"
      ]
     },
     "execution_count": 8,
     "metadata": {},
     "output_type": "execute_result"
    }
   ],
   "source": [
    "def inverse(d):\n",
    "    \"\"\"\n",
    "    Invert the dataframe by inverting the underlying matrix\n",
    "    \"\"\"\n",
    "    return pd.DataFrame(inv(d.values), index=d.columns, columns=d.index)\n",
    "\n",
    "def w_msr(sigma, mu, scale=True):\n",
    "    \"\"\"\n",
    "    Optimal (Tangent/Max Sharpe Ratio) Portfolio weights\n",
    "    by using the Markowitz Optimization Procedure\n",
    "    Mu is the vector of Excess expected Returns\n",
    "    Sigma must be an N x N matrix as a DataFrame and Mu a column vector as a Series\n",
    "    This implements page 188 Equation 5.2.28 of\n",
    "    \"The econometrics of financial markets\" Campbell, Lo and Mackinlay.\n",
    "    \"\"\"\n",
    "    w = inverse(sigma).dot(mu)\n",
    "    if scale:\n",
    "        w = w/sum(w) # fix: this assumes all w is +ve\n",
    "    return w\n",
    "\n",
    "def w_star(delta, sigma, mu):\n",
    "    return (inverse(sigma).dot(mu))/delta\n",
    "\n",
    "wstar = w_star(delta=delta, sigma=bl_sigma, mu=bl_mu)\n",
    "# display w*\n",
    "(wstar*100).round(1)"
   ]
  }
 ],
 "metadata": {
  "kernelspec": {
   "display_name": "Python 3",
   "language": "python",
   "name": "python3"
  },
  "language_info": {
   "codemirror_mode": {
    "name": "ipython",
    "version": 3
   },
   "file_extension": ".py",
   "mimetype": "text/x-python",
   "name": "python",
   "nbconvert_exporter": "python",
   "pygments_lexer": "ipython3",
   "version": "3.8.5"
  }
 },
 "nbformat": 4,
 "nbformat_minor": 4
}
